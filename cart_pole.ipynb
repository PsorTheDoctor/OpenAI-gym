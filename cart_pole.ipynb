{
  "nbformat": 4,
  "nbformat_minor": 0,
  "metadata": {
    "colab": {
      "name": "cart_pole.ipynb",
      "provenance": [],
      "authorship_tag": "ABX9TyNNnZD5dGWsLcj8Q3zwW7oa",
      "include_colab_link": true
    },
    "kernelspec": {
      "name": "python3",
      "display_name": "Python 3"
    },
    "accelerator": "GPU"
  },
  "cells": [
    {
      "cell_type": "markdown",
      "metadata": {
        "id": "view-in-github",
        "colab_type": "text"
      },
      "source": [
        "<a href=\"https://colab.research.google.com/github/PsorTheDoctor/OpenAI-gym/blob/master/cart_pole.ipynb\" target=\"_parent\"><img src=\"https://colab.research.google.com/assets/colab-badge.svg\" alt=\"Open In Colab\"/></a>"
      ]
    },
    {
      "cell_type": "code",
      "metadata": {
        "id": "wpSBFRJ1DBgM",
        "colab_type": "code",
        "colab": {}
      },
      "source": [
        "!pip install gym\n",
        "!apt-get install python-opengl -y\n",
        "!apt install xvfb -y"
      ],
      "execution_count": 0,
      "outputs": []
    },
    {
      "cell_type": "code",
      "metadata": {
        "id": "f_o3geGdFBNN",
        "colab_type": "code",
        "colab": {}
      },
      "source": [
        "!pip install pyvirtualdisplay\n",
        "!pip install piglet"
      ],
      "execution_count": 0,
      "outputs": []
    },
    {
      "cell_type": "code",
      "metadata": {
        "id": "M4rQl_zNFM6e",
        "colab_type": "code",
        "colab": {
          "base_uri": "https://localhost:8080/",
          "height": 72
        },
        "outputId": "1d3e047e-5573-4e80-f388-847b54386803"
      },
      "source": [
        "from pyvirtualdisplay import Display\n",
        "\n",
        "display = Display(visible=0, size=(1400, 900))\n",
        "display.start()"
      ],
      "execution_count": 5,
      "outputs": [
        {
          "output_type": "stream",
          "text": [
            "xdpyinfo was not found, X start can not be checked! Please install xdpyinfo!\n"
          ],
          "name": "stderr"
        },
        {
          "output_type": "execute_result",
          "data": {
            "text/plain": [
              "<Display cmd_param=['Xvfb', '-br', '-nolisten', 'tcp', '-screen', '0', '1400x900x24', ':1001'] cmd=['Xvfb', '-br', '-nolisten', 'tcp', '-screen', '0', '1400x900x24', ':1001'] oserror=None return_code=None stdout=\"None\" stderr=\"None\" timeout_happened=False>"
            ]
          },
          "metadata": {
            "tags": []
          },
          "execution_count": 5
        }
      ]
    },
    {
      "cell_type": "code",
      "metadata": {
        "id": "RfCA1XwgF7R6",
        "colab_type": "code",
        "colab": {}
      },
      "source": [
        "# Ten kod tworzy wirtualny ekran, aby toczyć grę na nim\n",
        "# Jeśli uruchamiasz lokalnie, zignoruj to\n",
        "import os\n",
        "if type(os.environ.get('DISPLAY')) is not str or len(os.environ.get('DISPLAY')) == 0:\n",
        "  !bash ../xvfb start\n",
        "  %env DISPLAY=:1"
      ],
      "execution_count": 0,
      "outputs": []
    },
    {
      "cell_type": "code",
      "metadata": {
        "id": "dVCvYQcQGs1T",
        "colab_type": "code",
        "colab": {
          "base_uri": "https://localhost:8080/",
          "height": 64
        },
        "outputId": "da6aea81-5d5e-4575-aae6-f9b40d883dda"
      },
      "source": [
        "import gym\n",
        "from gym import logger as gymlogger\n",
        "from gym.wrappers import Monitor\n",
        "gymlogger.set_level(40)\n",
        "import tensorflow as tf\n",
        "import numpy as np\n",
        "import random\n",
        "import matplotlib\n",
        "import matplotlib.pyplot as plt\n",
        "%matplotlib inline\n",
        "import math\n",
        "import glob\n",
        "import io\n",
        "import base64\n",
        "from IPython.display import HTML\n",
        "\n",
        "from IPython import display as ipythondisplay"
      ],
      "execution_count": 7,
      "outputs": [
        {
          "output_type": "display_data",
          "data": {
            "text/html": [
              "<p style=\"color: red;\">\n",
              "The default version of TensorFlow in Colab will soon switch to TensorFlow 2.x.<br>\n",
              "We recommend you <a href=\"https://www.tensorflow.org/guide/migrate\" target=\"_blank\">upgrade</a> now \n",
              "or ensure your notebook will continue to use TensorFlow 1.x via the <code>%tensorflow_version 1.x</code> magic:\n",
              "<a href=\"https://colab.research.google.com/notebooks/tensorflow_version.ipynb\" target=\"_blank\">more info</a>.</p>\n"
            ],
            "text/plain": [
              "<IPython.core.display.HTML object>"
            ]
          },
          "metadata": {
            "tags": []
          }
        }
      ]
    },
    {
      "cell_type": "code",
      "metadata": {
        "id": "nTIYTvAQIJtr",
        "colab_type": "code",
        "colab": {}
      },
      "source": [
        "\"\"\"\n",
        "Użyteczne funkcje umożliwiające nagranie środowiska gym i wyświetlenie go\n",
        "Aby zezwolić na wideo wystarczy \"env = wrap_env\"\n",
        "\"\"\"\n",
        "\n",
        "def show_video():\n",
        "  mp4list = glob.glob('video/*.mp4')\n",
        "  if len(mp4list) > 0:\n",
        "    mp4 = mp4list[0]\n",
        "    video = io.open(mp4, 'r+b').read()\n",
        "    encoded = base64.b64encode(video)\n",
        "    ipythondisplay.display(HTML(data='''<video alt=\"test\" autoplay loop controls style=\"height: 400px;\">\n",
        "        <source src=\"data:video/mp4;base64,{0}\" type=\"video/mp4\" />\n",
        "      </video>'''.format(encoded.decode('ascii'))))\n",
        "  else:\n",
        "    print('Could not find video')\n",
        "\n",
        "def wrap_env(env):\n",
        "  env = Monitor(env, './video', force=True)\n",
        "  return env"
      ],
      "execution_count": 0,
      "outputs": []
    },
    {
      "cell_type": "markdown",
      "metadata": {
        "id": "azBUgbnCUgv6",
        "colab_type": "text"
      },
      "source": [
        "## CartPole"
      ]
    },
    {
      "cell_type": "code",
      "metadata": {
        "id": "cijHHKS0UmJn",
        "colab_type": "code",
        "colab": {
          "base_uri": "https://localhost:8080/",
          "height": 139
        },
        "outputId": "6caa9eb5-457d-42d1-88bd-d87680c7fa20"
      },
      "source": [
        "import gym \n",
        "env = gym.make('CartPole-v0')\n",
        "env = wrap_env(env)\n",
        "\n",
        "print('Observation space: ', env.observation_space)\n",
        "print('Action space: ', env.action_space)\n",
        "\n",
        "obs = env.reset()\n",
        "\n",
        "print('Initial observation: ', obs)\n",
        "\n",
        "action = env.action_space.sample()  # podujmuje losową akcję\n",
        "\n",
        "obs, r, done, info = env.step(action)\n",
        "print('Next observation: ', obs)\n",
        "print('Reward: ', r)\n",
        "print('Done: ', done)\n",
        "print('Info: ', info)"
      ],
      "execution_count": 24,
      "outputs": [
        {
          "output_type": "stream",
          "text": [
            "Observation space:  Box(4,)\n",
            "Action space:  Discrete(2)\n",
            "Initial observation:  [0.01463859 0.04037087 0.04288382 0.03510227]\n",
            "Next observation:  [ 0.01544601  0.23485245  0.04358586 -0.24374792]\n",
            "Reward:  1.0\n",
            "Done:  False\n",
            "Info:  {}\n"
          ],
          "name": "stdout"
        }
      ]
    },
    {
      "cell_type": "markdown",
      "metadata": {
        "id": "4MEuGxqqWGzc",
        "colab_type": "text"
      },
      "source": [
        "### Wyświetlenie wideo"
      ]
    },
    {
      "cell_type": "code",
      "metadata": {
        "id": "grah6EfMWJmU",
        "colab_type": "code",
        "colab": {
          "base_uri": "https://localhost:8080/",
          "height": 976
        },
        "outputId": "7e22d1b6-c795-4c37-bb4e-508baac42e35"
      },
      "source": [
        "'''CartPole z użyciem losowej akcji'''\n",
        "import gym\n",
        "env = gym.make('CartPole-v0')\n",
        "env = wrap_env(env)\n",
        "\n",
        "observation = env.reset()\n",
        "\n",
        "while True:\n",
        "  env.render()\n",
        "\n",
        "  action = env.action_space.sample()  # podujmuje losową akcję\n",
        "  observation, reward, done, info = env.step(action)\n",
        "  print(reward)\n",
        "\n",
        "  if done:\n",
        "    break;\n",
        "\n",
        "env.close()\n",
        "show_video()"
      ],
      "execution_count": 36,
      "outputs": [
        {
          "output_type": "stream",
          "text": [
            "1.0\n",
            "1.0\n",
            "1.0\n",
            "1.0\n",
            "1.0\n",
            "1.0\n",
            "1.0\n",
            "1.0\n",
            "1.0\n",
            "1.0\n",
            "1.0\n",
            "1.0\n",
            "1.0\n",
            "1.0\n",
            "1.0\n",
            "1.0\n",
            "1.0\n",
            "1.0\n",
            "1.0\n",
            "1.0\n",
            "1.0\n",
            "1.0\n",
            "1.0\n",
            "1.0\n",
            "1.0\n",
            "1.0\n",
            "1.0\n",
            "1.0\n",
            "1.0\n",
            "1.0\n",
            "1.0\n",
            "1.0\n"
          ],
          "name": "stdout"
        },
        {
          "output_type": "display_data",
          "data": {
            "text/html": [
              "<video alt=\"test\" autoplay loop controls style=\"height: 400px;\">\n",
              "        <source src=\"data:video/mp4;base64,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\" type=\"video/mp4\" />\n",
              "      </video>"
            ],
            "text/plain": [
              "<IPython.core.display.HTML object>"
            ]
          },
          "metadata": {
            "tags": []
          }
        }
      ]
    }
  ]
}