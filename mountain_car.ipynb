{
  "nbformat": 4,
  "nbformat_minor": 0,
  "metadata": {
    "colab": {
      "name": "mountain_car.ipynb",
      "provenance": [],
      "collapsed_sections": [],
      "authorship_tag": "ABX9TyNgzwkPtOa+MhwccpWGqDM/",
      "include_colab_link": true
    },
    "kernelspec": {
      "name": "python3",
      "display_name": "Python 3"
    },
    "accelerator": "GPU"
  },
  "cells": [
    {
      "cell_type": "markdown",
      "metadata": {
        "id": "view-in-github",
        "colab_type": "text"
      },
      "source": [
        "<a href=\"https://colab.research.google.com/github/PsorTheDoctor/OpenAI-gym/blob/master/mountain_car.ipynb\" target=\"_parent\"><img src=\"https://colab.research.google.com/assets/colab-badge.svg\" alt=\"Open In Colab\"/></a>"
      ]
    },
    {
      "cell_type": "code",
      "metadata": {
        "id": "wpSBFRJ1DBgM",
        "colab_type": "code",
        "colab": {}
      },
      "source": [
        "!pip install gym\n",
        "!apt-get install python-opengl -y\n",
        "!apt install xvfb -y"
      ],
      "execution_count": 0,
      "outputs": []
    },
    {
      "cell_type": "code",
      "metadata": {
        "id": "f_o3geGdFBNN",
        "colab_type": "code",
        "colab": {}
      },
      "source": [
        "!pip install pyvirtualdisplay\n",
        "!pip install piglet"
      ],
      "execution_count": 0,
      "outputs": []
    },
    {
      "cell_type": "code",
      "metadata": {
        "id": "M4rQl_zNFM6e",
        "colab_type": "code",
        "colab": {
          "base_uri": "https://localhost:8080/",
          "height": 72
        },
        "outputId": "1d3e047e-5573-4e80-f388-847b54386803"
      },
      "source": [
        "from pyvirtualdisplay import Display\n",
        "\n",
        "display = Display(visible=0, size=(1400, 900))\n",
        "display.start()"
      ],
      "execution_count": 5,
      "outputs": [
        {
          "output_type": "stream",
          "text": [
            "xdpyinfo was not found, X start can not be checked! Please install xdpyinfo!\n"
          ],
          "name": "stderr"
        },
        {
          "output_type": "execute_result",
          "data": {
            "text/plain": [
              "<Display cmd_param=['Xvfb', '-br', '-nolisten', 'tcp', '-screen', '0', '1400x900x24', ':1001'] cmd=['Xvfb', '-br', '-nolisten', 'tcp', '-screen', '0', '1400x900x24', ':1001'] oserror=None return_code=None stdout=\"None\" stderr=\"None\" timeout_happened=False>"
            ]
          },
          "metadata": {
            "tags": []
          },
          "execution_count": 5
        }
      ]
    },
    {
      "cell_type": "code",
      "metadata": {
        "id": "RfCA1XwgF7R6",
        "colab_type": "code",
        "colab": {}
      },
      "source": [
        "# Ten kod tworzy wirtualny ekran, aby toczyć grę na nim\n",
        "# Jeśli uruchamiasz lokalnie, zignoruj to\n",
        "import os\n",
        "if type(os.environ.get('DISPLAY')) is not str or len(os.environ.get('DISPLAY')) == 0:\n",
        "  !bash ../xvfb start\n",
        "  %env DISPLAY=:1"
      ],
      "execution_count": 0,
      "outputs": []
    },
    {
      "cell_type": "code",
      "metadata": {
        "id": "dVCvYQcQGs1T",
        "colab_type": "code",
        "colab": {
          "base_uri": "https://localhost:8080/",
          "height": 64
        },
        "outputId": "da6aea81-5d5e-4575-aae6-f9b40d883dda"
      },
      "source": [
        "import gym\n",
        "from gym import logger as gymlogger\n",
        "from gym.wrappers import Monitor\n",
        "gymlogger.set_level(40)\n",
        "import tensorflow as tf\n",
        "import numpy as np\n",
        "import random\n",
        "import matplotlib\n",
        "import matplotlib.pyplot as plt\n",
        "%matplotlib inline\n",
        "import math\n",
        "import glob\n",
        "import io\n",
        "import base64\n",
        "from IPython.display import HTML\n",
        "\n",
        "from IPython import display as ipythondisplay"
      ],
      "execution_count": 7,
      "outputs": [
        {
          "output_type": "display_data",
          "data": {
            "text/html": [
              "<p style=\"color: red;\">\n",
              "The default version of TensorFlow in Colab will soon switch to TensorFlow 2.x.<br>\n",
              "We recommend you <a href=\"https://www.tensorflow.org/guide/migrate\" target=\"_blank\">upgrade</a> now \n",
              "or ensure your notebook will continue to use TensorFlow 1.x via the <code>%tensorflow_version 1.x</code> magic:\n",
              "<a href=\"https://colab.research.google.com/notebooks/tensorflow_version.ipynb\" target=\"_blank\">more info</a>.</p>\n"
            ],
            "text/plain": [
              "<IPython.core.display.HTML object>"
            ]
          },
          "metadata": {
            "tags": []
          }
        }
      ]
    },
    {
      "cell_type": "code",
      "metadata": {
        "id": "nTIYTvAQIJtr",
        "colab_type": "code",
        "colab": {}
      },
      "source": [
        "\"\"\"\n",
        "Użyteczne funkcje umożliwiające nagranie środowiska gym i wyświetlenie go\n",
        "Aby zezwolić na wideo wystarczy \"env = wrap_env\"\n",
        "\"\"\"\n",
        "\n",
        "def show_video():\n",
        "  mp4list = glob.glob('video/*.mp4')\n",
        "  if len(mp4list) > 0:\n",
        "    mp4 = mp4list[0]\n",
        "    video = io.open(mp4, 'r+b').read()\n",
        "    encoded = base64.b64encode(video)\n",
        "    ipythondisplay.display(HTML(data='''<video alt=\"test\" autoplay loop controls style=\"height: 400px;\">\n",
        "        <source src=\"data:video/mp4;base64,{0}\" type=\"video/mp4\" />\n",
        "      </video>'''.format(encoded.decode('ascii'))))\n",
        "  else:\n",
        "    print('Could not find video')\n",
        "\n",
        "def wrap_env(env):\n",
        "  env = Monitor(env, './video', force=True)\n",
        "  return env"
      ],
      "execution_count": 0,
      "outputs": []
    },
    {
      "cell_type": "markdown",
      "metadata": {
        "id": "azBUgbnCUgv6",
        "colab_type": "text"
      },
      "source": [
        "## MountainCar\n",
        "### Losowa akcja"
      ]
    },
    {
      "cell_type": "code",
      "metadata": {
        "id": "cijHHKS0UmJn",
        "colab_type": "code",
        "colab": {}
      },
      "source": [
        "import gym \n",
        "env = gym.make('MountainCar-v0')\n",
        "env = wrap_env(env)\n",
        "\n",
        "# Eksploracja środowiska MountainCar\n",
        "# plt.imshow(env.render('rgb_array'))\n",
        "print('Observation space: ', env.observation_space)\n",
        "print('Action space: ', env.action_space)\n",
        "\n",
        "# Podejmuje losowe akcje i wyświetla wideo\n",
        "# W MountainCar, observation stanowią dwie liczby:\n",
        "# pozycję pojazdu i prędkość\n",
        "observation = env.reset()\n",
        "\n",
        "print('Initial observation code: ', observation)\n",
        "\n",
        "while True:\n",
        "  env.render()\n",
        "\n",
        "  action = env.action_space.sample()  # podujmuje losową akcję\n",
        "  observation, reward, done, info = env.step(action)\n",
        "  print(reward)\n",
        "\n",
        "  if done:\n",
        "    break;\n",
        "\n",
        "env.close()\n",
        "show_video()"
      ],
      "execution_count": 0,
      "outputs": []
    },
    {
      "cell_type": "markdown",
      "metadata": {
        "id": "ZRHqnsWhc1fX",
        "colab_type": "text"
      },
      "source": [
        "### Przypisana akcja"
      ]
    },
    {
      "cell_type": "code",
      "metadata": {
        "id": "dLZ5KC4xc3uU",
        "colab_type": "code",
        "colab": {
          "base_uri": "https://localhost:8080/",
          "height": 52
        },
        "outputId": "3e324373-146b-479a-fca0-b783f4bd25ec"
      },
      "source": [
        "import gym \n",
        "env = gym.make('MountainCar-v0')\n",
        "env = wrap_env(env)\n",
        "\n",
        "# Eksploracja środowiska MountainCar\n",
        "# plt.imshow(env.render('rgb_array'))\n",
        "print('Observation space: ', env.observation_space)\n",
        "print('Action space: ', env.action_space)"
      ],
      "execution_count": 43,
      "outputs": [
        {
          "output_type": "stream",
          "text": [
            "Observation space:  Box(2,)\n",
            "Action space:  Discrete(3)\n"
          ],
          "name": "stdout"
        }
      ]
    },
    {
      "cell_type": "code",
      "metadata": {
        "id": "_WppeYJkdiVh",
        "colab_type": "code",
        "colab": {
          "base_uri": "https://localhost:8080/",
          "height": 373
        },
        "outputId": "db0999ed-580b-4080-9b0b-fc198a74ba4f"
      },
      "source": [
        "# Trochę eksploracji\n",
        "obs = env.reset()\n",
        "print('Initial observation code: ', obs)\n",
        "print('Taking action 2 (right)')\n",
        "new_obs, reward, is_done, _ = env.step(2)\n",
        "\n",
        "print('New observation code: ', new_obs)\n",
        "print('Reward: ', reward)\n",
        "print('Is game over? ', is_done)\n",
        "\n",
        "# Jak widać, pojazd poruszył się trochę w prawo (ok. 0.0005)\n",
        "plt.imshow(env.render('rgb_array'))"
      ],
      "execution_count": 41,
      "outputs": [
        {
          "output_type": "stream",
          "text": [
            "Initial observation code:  [-0.51629519  0.        ]\n",
            "Taking action 2 (right)\n",
            "New observation code:  [-0.51534996  0.00094523]\n",
            "Reward:  -1.0\n",
            "Is game over?  False\n"
          ],
          "name": "stdout"
        },
        {
          "output_type": "execute_result",
          "data": {
            "text/plain": [
              "<matplotlib.image.AxesImage at 0x7f669eadf198>"
            ]
          },
          "metadata": {
            "tags": []
          },
          "execution_count": 41
        },
        {
          "output_type": "display_data",
          "data": {
            "image/png": "[encoded data removed]",
            "text/plain": [
              "<Figure size 432x288 with 1 Axes>"
            ]
          },
          "metadata": {
            "tags": []
          }
        }
      ]
    },
    {
      "cell_type": "markdown",
      "metadata": {
        "id": "MYWTClB2e2fj",
        "colab_type": "text"
      },
      "source": [
        "### Wyświetlenie wideo"
      ]
    },
    {
      "cell_type": "code",
      "metadata": {
        "id": "j49pdppxfRQd",
        "colab_type": "code",
        "colab": {}
      },
      "source": [
        "import gym \n",
        "env = gym.make('MountainCar-v0')\n",
        "env = wrap_env(env)\n",
        "\n",
        "# Eksploracja środowiska MountainCar\n",
        "# plt.imshow(env.render('rgb_array'))\n",
        "print('Observation space: ', env.observation_space)\n",
        "print('Action space: ', env.action_space)\n",
        "\n",
        "# Porusza się w prawo i wyświetla wideo\n",
        "# W MountainCar, observation stanowią dwie liczby:\n",
        "# pozycję pojazdu i prędkość\n",
        "observation = env.reset()\n",
        "\n",
        "print('Initial observation code: ', observation)\n",
        "\n",
        "for _ in range(1000):\n",
        "  env.render()\n",
        "\n",
        "  print('Taking action 2 (right)')\n",
        "  action = 2\n",
        "  observation, reward, done, info = env.step(action)\n",
        "  print(reward)\n",
        "\n",
        "  if done:\n",
        "    break;\n",
        "\n",
        "env.close()\n",
        "show_video()"
      ],
      "execution_count": 0,
      "outputs": []
    },
    {
      "cell_type": "markdown",
      "metadata": {
        "id": "ox8S4qHqgto0",
        "colab_type": "text"
      },
      "source": [
        "### MountainCar z heurystyką"
      ]
    },
    {
      "cell_type": "code",
      "metadata": {
        "id": "HSUvbrqngyvi",
        "colab_type": "code",
        "colab": {}
      },
      "source": [
        "import gym\n",
        "from gym.envs.classic_control.mountain_car import MountainCarEnv"
      ],
      "execution_count": 0,
      "outputs": []
    },
    {
      "cell_type": "code",
      "metadata": {
        "id": "F-a67jKyhE7L",
        "colab_type": "code",
        "colab": {
          "base_uri": "https://localhost:8080/",
          "height": 439
        },
        "outputId": "7ba43571-1857-489c-b07c-488a3c4596a1"
      },
      "source": [
        "TIME_LIMIT = 250\n",
        "env = gym.wrappers.TimeLimit(MountainCarEnv(), max_episode_steps=TIME_LIMIT + 1)\n",
        "env = wrap_env(env)\n",
        "\n",
        "obs = env.reset()\n",
        "actions = {'left': 0, 'stop': 1, 'right': 2}\n",
        "\n",
        "def policy(t):\n",
        "  if t > 50 and t < 100:\n",
        "    return actions['left']\n",
        "  else:\n",
        "    return actions['right']\n",
        "\n",
        "\n",
        "for t in range(TIME_LIMIT):\n",
        "  obs, r, done, _ = env.step(policy(t))\n",
        "\n",
        "  if done:\n",
        "    print(\"Well done!\")\n",
        "    break;\n",
        "\n",
        "env.close()\n",
        "show_video()"
      ],
      "execution_count": 46,
      "outputs": [
        {
          "output_type": "stream",
          "text": [
            "Well done!\n"
          ],
          "name": "stdout"
        },
        {
          "output_type": "display_data",
          "data": {
            "text/html": [
              "<video alt=\"test\" autoplay loop controls style=\"height: 400px;\">\n",
              "        <source src=\"data:video/mp4;base64,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\" type=\"video/mp4\" />\n",
              "      </video>"
            ],
            "text/plain": [
              "<IPython.core.display.HTML object>"
            ]
          },
          "metadata": {
            "tags": []
          }
        }
      ]
    }
  ]
}